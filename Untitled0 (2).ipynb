{
  "nbformat": 4,
  "nbformat_minor": 0,
  "metadata": {
    "colab": {
      "provenance": []
    },
    "kernelspec": {
      "name": "python3",
      "display_name": "Python 3"
    },
    "language_info": {
      "name": "python"
    }
  },
  "cells": [
    {
      "cell_type": "markdown",
      "source": [
        "#Assignment Function"
      ],
      "metadata": {
        "id": "KvIt6Xize1jZ"
      }
    },
    {
      "cell_type": "markdown",
      "source": [
        "#Theory Question"
      ],
      "metadata": {
        "id": "5rGULk3le7i_"
      }
    },
    {
      "cell_type": "markdown",
      "source": [
        "1.What is the difference between a function and a method in Python?\n",
        "\n",
        "answ->The difference between a function and a method in Python lies in their association and usage:\n",
        "\n",
        "Function\n",
        "\n",
        "A function is a block of code that is independent of any class. It is defined using the def keyword. Functions can be called directly without being tied to any object. Example of a Function:\n",
        "\n",
        "def add(x, y):\n",
        "\n",
        "return x + y\n",
        "result = add(2, 3) # Calling a function\n",
        "\n",
        "print(result) # Output: 5\n",
        "\n",
        "Method\n",
        "\n",
        "A method is a function that is defined inside a class and is associated with an object or the class itself. It is called using an object or class. The first parameter of an instance method is usually self, which refers to the instance of the class.\n",
        "\n",
        "Example of a Method:\n",
        "\n",
        "python\n",
        "class Calculator:\n",
        "\n",
        "def add(self, x, y):  # 'self' refers to the instance of the class\n",
        "\n",
        "    return x + y\n",
        "calc = Calculator()\n",
        "\n",
        "result = calc.add(2, 3) # Calling a method using an object\n",
        "\n",
        "print(result) # Output: 5"
      ],
      "metadata": {
        "id": "oR2zwPpwfDcf"
      }
    },
    {
      "cell_type": "markdown",
      "source": [
        "2.Explain the concept of function arguments and parameters in Python.\n",
        "\n",
        "answ->In Python, function arguments and parameters are terms related to passing data into functions.\n",
        "\n",
        "Parameters vs Arguments\n",
        "\n",
        "Parameters: These are the placeholders or variable names defined in a function's definition.\n",
        "\n",
        "Arguments: These are the actual values you pass to the function when calling it.\n",
        "\n",
        "Example:\n",
        "\n",
        "def greet(name): # 'name' is a parameter\n",
        "\n",
        "print(f\"Hello, {name}!\")\n",
        "greet(\"pavnesh\") # \"pavnesh\" is the argument\n",
        "\n",
        "Here:\n",
        "\n",
        "name is the parameter (defined in the function).\n",
        "\n",
        "\"pavnesh\" is the argument (passed when the function is called).\n",
        "\n",
        "Types of Function Arguments in Python\n",
        "\n",
        "Python allows different types of arguments when calling a function:\n",
        "Positional Arguments\n",
        "\n",
        "Keyword Arguments\n",
        "\n",
        "Default Arguments\n",
        "\n",
        "Variable-Length Arguments (*args and **kwargs)"
      ],
      "metadata": {
        "id": "OgeO0Yi3fTak"
      }
    },
    {
      "cell_type": "markdown",
      "source": [
        "#3. What are the different ways to define and call a function in Python?\n",
        "\n",
        "answ->In Python, functions can be defined and called in various ways to handle a range of use cases. Here’s a breakdown:\n",
        "\n",
        "In Python, functions can be defined and called in various ways to handle a range of use cases.\n",
        "\n",
        "Defining Functions in Python\n",
        "\n",
        "Regular Functions.\n",
        "\n",
        "Functions with Default Parameters.\n",
        "\n",
        "Variable-Length Functions (*args and **kwargs).\n",
        "\n",
        "Lambda Functions (Anonymous Functions).\n",
        "\n",
        "1.Regular Function Definition\n",
        "\n",
        "A function is defined using the def keyword.\n",
        "\n",
        "Example:\n",
        "\n",
        "def add(a, b):\n",
        "\n",
        "return a + b\n",
        "//Calling the function\n",
        "\n",
        "result = add(2, 3)\n",
        "\n",
        "print(result) # Output: 5\n",
        "Functions with Default Parameters\n",
        "\n",
        "can assign default values to parameters, making them optional during the\n",
        "\n",
        "function call.\n",
        "\n",
        "Example:\n",
        "\n",
        "def greet(name, age=18):\n",
        "\n",
        "print(f\"Hello {name}, you are {age} years old.\")\n",
        "greet(\"pavnesh\") # Uses default age: 18\n",
        "\n",
        "greet(\"pavnesh\", 21) # Overrides default: 21\n",
        "\n",
        "Variable-Length Functions\n",
        "\n",
        "Python allows functions to accept variable numbers of arguments:\n",
        "\n",
        "a. *args (Non-Keyword Arguments)\n",
        "\n",
        "*args allows you to pass a variable number of positional arguments.\n",
        "\n",
        "Example:\n",
        "def add_all(*args):\n",
        "\n",
        "return sum(args)\n",
        "print(add_all(1, 2, 3, 4)) # Output: 10\n",
        "\n",
        "**kwargs (Keyword Arguments)\n",
        "\n",
        "**kwargs allows you to pass a variable number of keyword arguments.\n",
        "\n",
        "Example:\n",
        "\n",
        "def show_details(**kwargs):\n",
        "\n",
        "for key, value in kwargs.items():\n",
        "\n",
        "    print(f\"{key}: {value}\")\n",
        "show_details(name=\"pavnesh\", age=21, city=\"lucknow\")\n",
        "\n",
        "4.Lambda Functions (Anonymous Functions)\n",
        "\n",
        "A lambda function is a single-line, anonymous function defined using the lambda\n",
        "\n",
        "keyword.\n",
        "\n",
        "Syntax: lambda arguments: expression\n",
        "\n",
        "Example:square = lambda x: x * x\n",
        "\n",
        "print(square(5)) # Output: 25"
      ],
      "metadata": {
        "id": "e1Wjb2AffhDy"
      }
    },
    {
      "cell_type": "markdown",
      "source": [
        "#4.What is the purpose of the return statement in a Python function.\n",
        "\n",
        "answ->The return statement in a Python function is used to send back a value from the function to the caller. It effectively exits the function and specifies what value (if any) the function should return.\n",
        "\n",
        "Purpose of the return Statement\n",
        "\n",
        "Returning a Value:\n",
        "\n",
        "It allows a function to send data back to the part of the program where the function was called.\n",
        "\n",
        "Example:\n",
        "\n",
        "def add(a, b):\n",
        "\n",
        "return a + b\n",
        "result = add(3, 5)\n",
        "\n",
        "print(result) # Output: 8\n",
        "\n",
        "Exiting the Function:\n",
        "\n",
        "When return is encountered, the function immediately stops execution and exits, even if there is more code after it.\n",
        "\n",
        "Example:\n",
        "\n",
        "def example():\n",
        "\n",
        "print(\"Before return\")\n",
        "return\n",
        "\n",
        "print(\"After return\")  # This line will never execute.\n",
        "example()\n",
        "\n",
        "// Output: \"Before return\""
      ],
      "metadata": {
        "id": "3MbmyAYogtZo"
      }
    },
    {
      "cell_type": "markdown",
      "source": [
        "#5.What are iterators in Python and how do they differ from iterables.\n",
        "\n",
        "answ->In Python, iterators and iterables are closely related concepts, but they have distinct roles when it comes to iterating over data.\n",
        "\n",
        "What is an Iterable?\n",
        "\n",
        "An iterable is any Python object that can be looped over (iterated) using a for loop. It is an object that implements the iter() method, which returns an iterator.\n",
        "\n",
        "Common examples of iterables:\n",
        "\n",
        "Lists, tuples, strings, dictionaries, sets, and custom objects implementing iter.\n",
        "\n",
        "Example of an Iterable:\n",
        "\n",
        "my_list = [1, 2, 3] # A list is an iterable\n",
        "\n",
        "for item in my_list:\n",
        "\n",
        "print(item)  # Output: 1, 2, 3\n",
        "What is an Iterator?\n",
        "\n",
        "An iterator is an object that produces one value at a time from an iterable. It implements two methods:\n",
        "\n",
        "iter(): Returns the iterator object itself.\n",
        "\n",
        "next(): Returns the next value in the sequence. Raises a StopIteration exception when there are no more items to return.\n",
        "\n",
        "You can explicitly use next() to get the values from an iterator.\n",
        "Example of an Iterator:\n",
        "\n",
        "my_list = [1, 2, 3]\n",
        "\n",
        "iterator = iter(my_list) # Create an iterator using iter()\n",
        "\n",
        "print(next(iterator)) # Output: 1\n",
        "\n",
        "print(next(iterator)) # Output: 2\n",
        "\n",
        "print(next(iterator)) # Output: 3\n",
        "\n",
        "// print(next(iterator)) # Raises StopIteration"
      ],
      "metadata": {
        "id": "awVrefY3hBd4"
      }
    },
    {
      "cell_type": "markdown",
      "source": [
        "#6.Explain the concept of generators in Python and how they are defined.\n",
        "\n",
        "answ->Generators in Python Generators in Python are special types of iterators that allow you to generate values on the fly instead of storing them in memory all at once. They are useful for working with large datasets or infinite sequences because they produce one value at a time as needed.\n",
        "\n",
        "Generators are defined using:\n",
        "\n",
        "The yield keyword (instead of return).\n",
        "\n",
        "Generator expressions (similar to list comprehensions).\n",
        "\n",
        "Defining Generators\n",
        "\n",
        "Using yield in a Function\n",
        "\n",
        "A generator function is defined like a normal function, but it uses yield instead of return to produce values one at a time.\n",
        "\n",
        "Example:\n",
        "\n",
        "def my_generator():\n",
        "\n",
        "yield 1\n",
        "\n",
        "yield 2\n",
        "\n",
        "yield 3\n",
        "gen = my_generator() # Creates a generator object\n",
        "\n",
        "print(next(gen)) # Output: 1\n",
        "print(next(gen)) # Output: 2\n",
        "\n",
        "print(next(gen)) # Output: 3\n",
        "\n",
        "// print(next(gen)) # Raises StopIteration\n",
        "\n",
        "Using Generator Expressions\n",
        "\n",
        "Generators can also be created using a compact syntax similar to list comprehensions, but with parentheses () instead of square brackets [].\n",
        "\n",
        "Example:\n",
        "\n",
        "gen = (x**2 for x in range(5)) # Generator expression\n",
        "\n",
        "print(next(gen)) # Output: 0\n",
        "\n",
        "print(next(gen)) # Output: 1\n",
        "\n",
        "print(next(gen)) # Output: 4"
      ],
      "metadata": {
        "id": "EqzqiJ6ZhaAh"
      }
    },
    {
      "cell_type": "markdown",
      "source": [
        "#7.What are the advantages of using generators over regular functions.\n",
        "\n",
        "answ->Generators in Python provide several advantages over regular functions, especially when dealing with large datasets, streams of data, or scenarios where memory optimization is critical. Here are the key advantages:\n",
        "\n",
        "Memory Efficiency\n",
        "\n",
        "Generators produce values on demand and do not store all the values in memory. This makes them memory-efficient, particularly when working with large datasets or infinite sequences.\n",
        "\n",
        "Regular functions: Store all the results in memory (e.g., lists).\n",
        "\n",
        "Generators: Yield one value at a time, reducing memory usage.\n",
        "\n",
        "Example: Generating squares of numbers.\n",
        "\n",
        "//Generator version (memory-efficient)\n",
        "\n",
        "def squares_generator(n):\n",
        "\n",
        "for i in range(n):\n",
        "\n",
        "    yield i * i\n",
        "// List version (consumes more memory)\n",
        "\n",
        "def squares_list(n):\n",
        "return [i * i for i in range(n)]\n",
        "Memory consumption: Large n will use more memory with lists.\n",
        "\n",
        "Lazy Evaluation\n",
        "\n",
        "Generators use lazy evaluation, meaning they produce values only when requested. This is ideal for:\n",
        "\n",
        "Processing large files or data streams.\n",
        "\n",
        "Infinite sequences.\n",
        "\n",
        "Example: Generating an infinite sequence of numbers.\n",
        "\n",
        "def infinite_sequence():\n",
        "\n",
        "num = 0\n",
        "\n",
        "while True:\n",
        "\n",
        "    yield num\n",
        "\n",
        "    num += 1\n",
        "gen = infinite_sequence()\n",
        "print(next(gen)) # Output: 0\n",
        "\n",
        "print(next(gen)) # Output: 1\n"
      ],
      "metadata": {
        "id": "jpyzyAcRhwzV"
      }
    },
    {
      "cell_type": "markdown",
      "source": [
        "#8.What is a lambda function in Python and when is it typically used.\n",
        "\n",
        "answ->Lambda Function in Python A lambda function in Python is a small, anonymous function that is defined using the lambda keyword. Unlike regular functions, a lambda function is written in a single line and can have multiple arguments, but it can only contain a single expression. The value of the expression is implicitly returned.\n",
        "\n",
        "Syntax:\n",
        "\n",
        "lambda arguments: expression\n",
        "\n",
        "arguments: A comma-separated list of parameters the function takes (like regular function arguments).\n",
        "\n",
        "expression: A single expression whose result is returned.\n",
        "\n",
        "Example:\n",
        "\n",
        "// Regular function\n",
        "\n",
        "def add(x, y):\n",
        "\n",
        "return x + y\n",
        "// Lambda function equivalent\n",
        "\n",
        "add_lambda = lambda x, y: x + y\n",
        "\n",
        "print(add_lambda(3, 5)) # Output: 8\n",
        "\n",
        "Typical Use Cases of Lambda Functions\n",
        "Lambda functions are typically used in situations where you need a short, throwaway function that is used temporarily and does not require the overhead of defining a full function. Some common scenarios include:\n",
        "\n",
        "In conjunction with higher-order functions:\n",
        "\n",
        "map(): Applies a function to all items in an iterable.\n",
        "\n",
        "filter(): Filters items in an iterable based on a condition.\n",
        "\n",
        "sorted(): Sorts an iterable based on a custom sorting key.\n",
        "\n",
        "When a function is needed for a short period: When you need a quick function for a short period and don’t want to define a full function, a lambda function is ideal."
      ],
      "metadata": {
        "id": "zE2a-LkliHcy"
      }
    },
    {
      "cell_type": "markdown",
      "source": [
        "#9.Explain the purpose and usage of the map() function in Python.\n",
        "\n",
        "answ->The map() Function in Python The map() function in Python is a built-in function that allows you to apply a function to all the items in an iterable (such as a list, tuple, or string) and return a map object, which is an iterator that yields the results of applying the function.\n",
        "\n",
        "Syntax:\n",
        "\n",
        "map(function, iterable, ...)\n",
        "\n",
        "function: The function to apply to each item in the iterable. This can be a normal function or a lambda function.\n",
        "\n",
        "iterable: One or more iterable objects (like lists, tuples, etc.) whose elements will be processed by the function.\n",
        "\n",
        "If multiple iterables are passed, the function must take as many arguments as there are iterables. The map() function applies the function to the items of the iterables in parallel, stopping when the shortest iterable is exhausted.\n",
        "\n",
        "Return Value:\n",
        "\n",
        "map() returns a map object (an iterator). You can convert it to a list, tuple, or other collection type if needed.\n",
        "\n",
        "Example 1: Using map() with a Simple Function\n",
        "\n",
        "Suppose you want to square each number in a list. You can use map() to apply a function to each element in the list.\n",
        "\n",
        "def square(x):\n",
        "\n",
        "return x ** 2\n",
        "numbers = [1, 2, 3, 4]\n",
        "squared_numbers = map(square, numbers)\n",
        "\n",
        "// Convert to a list to see the result\n",
        "\n",
        "print(list(squared_numbers)) # Output: [1, 4, 9, 16]\n",
        "\n",
        "Example 2: Using map() with a Lambda Function\n",
        "\n",
        "numbers = [1, 2, 3, 4]\n",
        "\n",
        "squared_numbers = map(lambda x: x ** 2, numbers)\n",
        "\n",
        "// Convert to a list to see the result\n",
        "\n",
        "print(list(squared_numbers)) # Output: [1, 4, 9, 16]"
      ],
      "metadata": {
        "id": "FzgaDtJBiVsb"
      }
    },
    {
      "cell_type": "markdown",
      "source": [
        "#10.What is the difference between map(), reduce(), and filter() functions in Python.\n",
        "\n",
        "answ->1. map() Function\n",
        "\n",
        "Purpose: The map() function applies a given function to each item in an iterable and returns an iterator (or map object) with the results.\n",
        "\n",
        "Output: An iterable (map object) containing the transformed elements.\n",
        "\n",
        "Use Case: When you want to apply a function to each element of an iterable (like transforming or processing elements).\n",
        "\n",
        "Syntax:\n",
        "\n",
        "map(function, iterable)\n",
        "\n",
        "Example:\n",
        "\n",
        "numbers = [1, 2, 3, 4]\n",
        "\n",
        "squared = map(lambda x: x**2, numbers)\n",
        "\n",
        "print(list(squared)) # Output: [1, 4, 9, 16]\n",
        "\n",
        "filter() Function\n",
        "\n",
        "Purpose: The filter() function filters elements of an iterable based on a condition function. It returns an iterator containing only those items that evaluate to True when passed to the function.\n",
        "\n",
        "Output: An iterable (filter object) containing the items that satisfy the condition.\n",
        "Use Case: When you want to filter elements of an iterable based on a specific condition (e.g., removing unwanted values).\n",
        "\n",
        "Syntax:\n",
        "\n",
        "filter(function, iterable)"
      ],
      "metadata": {
        "id": "L1p-cQcZip4-"
      }
    },
    {
      "cell_type": "markdown",
      "source": [
        "#PRACTICAL QUESTION"
      ],
      "metadata": {
        "id": "0wTU19umjM1r"
      }
    },
    {
      "cell_type": "markdown",
      "source": [],
      "metadata": {
        "id": "Ru_0dT38jkOv"
      }
    },
    {
      "cell_type": "markdown",
      "source": [
        "#1.Write a Python function that takes a list of numbers as input and returns the sum of all even numbers in the list.\n"
      ],
      "metadata": {
        "id": "IZSRtN2fjV5F"
      }
    },
    {
      "cell_type": "code",
      "source": [
        "from functools import reduce\n",
        "o = [1, 2, 3, 4, 11, 11, 22, 22]\n",
        "\n",
        "def b(o):\n",
        "    ab = 0\n",
        "    for i in o:\n",
        "        if i % 2 == 0:  # Check if the number is even\n",
        "            ab += i     # Add it to the sum\n",
        "    return ab\n",
        "\n",
        "print(b(o))"
      ],
      "metadata": {
        "colab": {
          "base_uri": "https://localhost:8080/"
        },
        "id": "lxmLSIrIjm2Q",
        "outputId": "e78af314-be09-4650-f481-da6d1516c451"
      },
      "execution_count": null,
      "outputs": [
        {
          "output_type": "stream",
          "name": "stdout",
          "text": [
            "50\n"
          ]
        }
      ]
    },
    {
      "cell_type": "markdown",
      "source": [
        "#2.Create a Python function that accepts a string and returns the reverse of that string."
      ],
      "metadata": {
        "id": "KoGhTLz3j4hl"
      }
    },
    {
      "cell_type": "code",
      "source": [
        "a = \"ab\"\n",
        "\n",
        "def c(a):\n",
        "    b = ''\n",
        "    # Iterate over the characters of the reversed string\n",
        "    for i in a[::-1]:\n",
        "        b += i\n",
        "    print(b)\n",
        "\n",
        "c(a)"
      ],
      "metadata": {
        "colab": {
          "base_uri": "https://localhost:8080/"
        },
        "id": "dSDQoEA0kBaW",
        "outputId": "0f3c555a-7157-4f7d-b46b-bd9fc1f09919"
      },
      "execution_count": null,
      "outputs": [
        {
          "output_type": "stream",
          "name": "stdout",
          "text": [
            "ba\n"
          ]
        }
      ]
    },
    {
      "cell_type": "markdown",
      "source": [
        "#3.Implement a Python function that takes a list of integers and returns a new list containing the squares of each number"
      ],
      "metadata": {
        "id": "yQnoF4y1kFuf"
      }
    },
    {
      "cell_type": "code",
      "source": [
        "a = [1, 2, 3, 4]\n",
        "b = lambda c: c**2\n",
        "result = map(b, a)\n",
        "print(list(result))\n",
        "print(\"ok\")"
      ],
      "metadata": {
        "colab": {
          "base_uri": "https://localhost:8080/"
        },
        "id": "PmvcAPM1kRSO",
        "outputId": "c02fa001-0aef-4556-9f1e-c002f14d47f3"
      },
      "execution_count": null,
      "outputs": [
        {
          "output_type": "stream",
          "name": "stdout",
          "text": [
            "[1, 4, 9, 16]\n",
            "ok\n"
          ]
        }
      ]
    },
    {
      "cell_type": "markdown",
      "source": [
        "#4.Write a Python function that checks if a given number is prime or not from 1 to 200."
      ],
      "metadata": {
        "id": "Qp4a2_6xkUQ0"
      }
    },
    {
      "cell_type": "code",
      "source": [
        "a = range(1, 201)\n",
        "b = filter(lambda c: all(c % i != 0 for i in range(2, int(c**0.5) + 1)), a)\n",
        "print(list(b))\n",
        "print(\"ok\")"
      ],
      "metadata": {
        "colab": {
          "base_uri": "https://localhost:8080/"
        },
        "id": "K0q30uejkZZv",
        "outputId": "f2c83a79-f89a-4b10-d6bc-c58232d162cb"
      },
      "execution_count": null,
      "outputs": [
        {
          "output_type": "stream",
          "name": "stdout",
          "text": [
            "[1, 2, 3, 5, 7, 11, 13, 17, 19, 23, 29, 31, 37, 41, 43, 47, 53, 59, 61, 67, 71, 73, 79, 83, 89, 97, 101, 103, 107, 109, 113, 127, 131, 137, 139, 149, 151, 157, 163, 167, 173, 179, 181, 191, 193, 197, 199]\n",
            "ok\n"
          ]
        }
      ]
    },
    {
      "cell_type": "markdown",
      "source": [
        "#5.Create an iterator class in Python that generates the Fibonacci sequence up to a specified number of terms"
      ],
      "metadata": {
        "id": "E9aNqkuykgNr"
      }
    },
    {
      "cell_type": "code",
      "source": [
        "class FibonacciIterator:\n",
        "    def __init__(self, n):\n",
        "        self.n = n\n",
        "        self.a, self.b = 0, 1\n",
        "\n",
        "    def __iter__(self):\n",
        "        return self\n",
        "\n",
        "    def __next__(self):\n",
        "        if self.n <= 0:\n",
        "            raise StopIteration\n",
        "        current = self.a\n",
        "        self.a, self.b = self.b, self.a + self.b\n",
        "        self.n -= 1\n",
        "        return current\n",
        "\n",
        "fibonacci_sequence = FibonacciIterator(10)\n",
        "for num in fibonacci_sequence:\n",
        "    print(num)"
      ],
      "metadata": {
        "colab": {
          "base_uri": "https://localhost:8080/"
        },
        "id": "UQMsNuwWkmYR",
        "outputId": "034568a3-2a30-4a4f-d672-f8b888474b4e"
      },
      "execution_count": null,
      "outputs": [
        {
          "output_type": "stream",
          "name": "stdout",
          "text": [
            "0\n",
            "1\n",
            "1\n",
            "2\n",
            "3\n",
            "5\n",
            "8\n",
            "13\n",
            "21\n",
            "34\n"
          ]
        }
      ]
    },
    {
      "cell_type": "markdown",
      "source": [
        "#6.Write a generator function in Python that yields the powers of 2 up to a given exponent."
      ],
      "metadata": {
        "id": "AYpO1ZC9ktqt"
      }
    },
    {
      "cell_type": "code",
      "source": [
        "def powers_of_2_yield(n):\n",
        "    for i in range(n + 1):\n",
        "        yield 2 ** i\n",
        "\n",
        "for power in powers_of_2_yield(5):\n",
        "    print(power)"
      ],
      "metadata": {
        "colab": {
          "base_uri": "https://localhost:8080/"
        },
        "id": "d4sTqvumkx8y",
        "outputId": "df95909d-35b8-4255-b680-b77f05e31664"
      },
      "execution_count": null,
      "outputs": [
        {
          "output_type": "stream",
          "name": "stdout",
          "text": [
            "1\n",
            "2\n",
            "4\n",
            "8\n",
            "16\n",
            "32\n"
          ]
        }
      ]
    },
    {
      "cell_type": "markdown",
      "source": [
        "#7.Implement a generator function that reads a file line by line and yields each line as a string."
      ],
      "metadata": {
        "id": "nZJEvYJ9k3M2"
      }
    },
    {
      "cell_type": "code",
      "source": [
        "file_content = [\n",
        "    \"Hello, this is the first line.\",\n",
        "    \"This is the second line.\",\n",
        "    \"And this is the third line.\",\n",
        "    \"This is the fourth line.\",\n",
        "]\n",
        "\n",
        "\n",
        "def read_file_line_by_line(content):\n",
        "    for line in content:\n",
        "        yield line.strip()\n",
        "\n",
        "\n",
        "for line in read_file_line_by_line(file_content):\n",
        "    print(line)"
      ],
      "metadata": {
        "colab": {
          "base_uri": "https://localhost:8080/"
        },
        "id": "DuY80CWek7uL",
        "outputId": "3a7ed127-06a5-49bf-ccb6-16e7c2e705a5"
      },
      "execution_count": null,
      "outputs": [
        {
          "output_type": "stream",
          "name": "stdout",
          "text": [
            "Hello, this is the first line.\n",
            "This is the second line.\n",
            "And this is the third line.\n",
            "This is the fourth line.\n"
          ]
        }
      ]
    },
    {
      "cell_type": "markdown",
      "source": [
        "#8.Use a lambda function in Python to sort a list of tuples based on the second element of each tuple."
      ],
      "metadata": {
        "id": "cpr-OghbmFQC"
      }
    },
    {
      "cell_type": "code",
      "source": [
        "tuples_list = [(1, 3), (2, 1), (3, 2), (4, 4)]\n",
        "sorted_list = sorted(tuples_list, key=lambda x: x[1])\n",
        "print(sorted_list)"
      ],
      "metadata": {
        "colab": {
          "base_uri": "https://localhost:8080/"
        },
        "id": "KS6BFdremNYC",
        "outputId": "02283f04-8384-4e96-a3d6-a46506e3881a"
      },
      "execution_count": null,
      "outputs": [
        {
          "output_type": "stream",
          "name": "stdout",
          "text": [
            "[(2, 1), (3, 2), (1, 3), (4, 4)]\n"
          ]
        }
      ]
    },
    {
      "cell_type": "markdown",
      "source": [
        "#9.Write a Python program that uses `map()` to convert a list of temperatures from Celsius to Fahrenheit."
      ],
      "metadata": {
        "id": "eiGTehN_mTAO"
      }
    },
    {
      "cell_type": "code",
      "source": [
        "celsius_temperatures = [20,40,22,25]\n",
        "def celsius_to_fahrenheit(celsius):\n",
        "    return (celsius * 9/5) + 32\n",
        "fahrenheit_temperatures = list(map(celsius_to_fahrenheit, celsius_temperatures))\n",
        "\n",
        "print(fahrenheit_temperatures)"
      ],
      "metadata": {
        "colab": {
          "base_uri": "https://localhost:8080/"
        },
        "id": "Dm-PsluQmamE",
        "outputId": "4a578160-087d-48ee-e5f9-b7f53cb505ae"
      },
      "execution_count": null,
      "outputs": [
        {
          "output_type": "stream",
          "name": "stdout",
          "text": [
            "[68.0, 104.0, 71.6, 77.0]\n"
          ]
        }
      ]
    },
    {
      "cell_type": "markdown",
      "source": [
        "#10.Create a Python program that uses `filter()` to remove all the vowels from a given string."
      ],
      "metadata": {
        "id": "vDA_ew6zmdve"
      }
    },
    {
      "cell_type": "code",
      "source": [
        "def is_not_vowel(char):\n",
        "    return char.lower() not in 'aeiou'\n",
        "input_string = \"Hello, World!\"\n",
        "filtered_string = ''.join(filter(is_not_vowel, input_string))\n",
        "\n",
        "print(filtered_string)"
      ],
      "metadata": {
        "colab": {
          "base_uri": "https://localhost:8080/"
        },
        "id": "dn3grVJ7mkV0",
        "outputId": "393b9305-91cb-4dad-9278-63b0f9a9c803"
      },
      "execution_count": null,
      "outputs": [
        {
          "output_type": "stream",
          "name": "stdout",
          "text": [
            "Hll, Wrld!\n"
          ]
        }
      ]
    },
    {
      "cell_type": "markdown",
      "source": [
        "\"\"\"11.Imagine an accounting routine used in a book shop. It works on a list with sublists, which look like this:\n",
        "Write a Python program, which returns a list with 2-tuples. Each tuple consists of the order number and the\n",
        "product of the price per item and the quantity. The product should be increased by 10,- € if the value of the\n",
        "order is smaller than 100,00 €.\n",
        "Write a Python program using lambda and map.\"\"\""
      ],
      "metadata": {
        "id": "_OdtrxAOnrGn"
      }
    },
    {
      "cell_type": "code",
      "source": [
        "orders = [\n",
        "    [101, 4,40.00],\n",
        "    [202, 5, 56.80],\n",
        "    [302, 3, 32.95],\n",
        "    [402, 3, 24.99],\n",
        "]\n",
        "def calculate_order(order):\n",
        "    order_number, price_per_item, quantity = order\n",
        "    total_price = price_per_item * quantity\n",
        "    if total_price < 100:\n",
        "        total_price += 10\n",
        "    return (order_number, total_price)\n",
        "result = list(map(lambda order: calculate_order(order), orders))\n",
        "\n",
        "print(result)\n"
      ],
      "metadata": {
        "colab": {
          "base_uri": "https://localhost:8080/"
        },
        "id": "DaDWSaT8nwh0",
        "outputId": "a0433212-0d0b-4b1e-db5d-87fc1ba24dcd"
      },
      "execution_count": null,
      "outputs": [
        {
          "output_type": "stream",
          "name": "stdout",
          "text": [
            "[(101, 160.0), (202, 284.0), (302, 108.85000000000001), (402, 84.97)]\n"
          ]
        }
      ]
    },
    {
      "cell_type": "markdown",
      "source": [],
      "metadata": {
        "id": "VBQwkzLLn2rB"
      }
    },
    {
      "cell_type": "code",
      "execution_count": null,
      "metadata": {
        "id": "nTOeltA_esH7"
      },
      "outputs": [],
      "source": []
    },
    {
      "cell_type": "code",
      "source": [],
      "metadata": {
        "id": "ktreAGxbnqFy"
      },
      "execution_count": null,
      "outputs": []
    },
    {
      "cell_type": "markdown",
      "source": [],
      "metadata": {
        "id": "Ny9B6PUZhAdH"
      }
    },
    {
      "cell_type": "markdown",
      "source": [],
      "metadata": {
        "id": "f_afGFvWe6jJ"
      }
    },
    {
      "cell_type": "markdown",
      "source": [],
      "metadata": {
        "id": "n7krZBUEey6W"
      }
    }
  ]
}